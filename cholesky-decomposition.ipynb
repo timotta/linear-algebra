{
 "cells": [
  {
   "cell_type": "markdown",
   "metadata": {},
   "source": [
    "# Cholesky Decomposition"
   ]
  },
  {
   "cell_type": "code",
   "execution_count": 79,
   "metadata": {},
   "outputs": [],
   "source": [
    "import numpy as np"
   ]
  },
  {
   "cell_type": "code",
   "execution_count": 158,
   "metadata": {},
   "outputs": [],
   "source": [
    "def lkk(A, L, k):\n",
    "    return np.sqrt( A[k,k] - np.sum(L[k, :k]**2) )\n",
    "\n",
    "def lki(A, L, k, i):\n",
    "    return ( A[k,i] - np.sum( L[i,:i] * L[k,:i] )) / L[i,i]\n",
    "\n",
    "def cholesky(A):\n",
    "    L = np.zeros(A.shape)\n",
    "    for k in range(len(A)):\n",
    "        for i in range(k+1):\n",
    "            if k == i:\n",
    "                L[k,k] = lkk(A, L, k)\n",
    "            else:\n",
    "                L[k,i] = lki(A, L, k, i)\n",
    "    return L"
   ]
  },
  {
   "cell_type": "markdown",
   "metadata": {},
   "source": [
    "Example following this video: https://www.youtube.com/watch?v=NppyUqgQqd0"
   ]
  },
  {
   "cell_type": "code",
   "execution_count": 159,
   "metadata": {},
   "outputs": [],
   "source": [
    "A = np.array([\n",
    "    [6., 15., 55.],\n",
    "    [15., 55., 225.],\n",
    "    [55., 225., 979.],\n",
    "])\n",
    "L = cholesky(A)\n",
    "Le = np.array([\n",
    "    [ 2.44948974,  0.        ,  0.        ],\n",
    "    [ 6.12372436,  4.18330013,  0.        ],\n",
    "    [22.45365598, 20.91650066,  6.11010093]\n",
    "])\n",
    "\n",
    "assert np.allclose(L, Le)\n",
    "assert np.allclose(A, L.dot(np.transpose(L)))"
   ]
  },
  {
   "cell_type": "markdown",
   "metadata": {},
   "source": [
    "----\n",
    "\n",
    "Examples following this link: https://rosettacode.org/wiki/Cholesky_decomposition"
   ]
  },
  {
   "cell_type": "code",
   "execution_count": 160,
   "metadata": {},
   "outputs": [],
   "source": [
    "A = np.array([\n",
    "    [25,  15,  -5],  \n",
    "    [15,  18,   0],        \n",
    "    [-5,   0,  11],\n",
    "])\n",
    "L = cholesky(A)\n",
    "Le = np.array([\n",
    "    [5,   0,   0],\n",
    "    [3,   3,   0],\n",
    "    [-1,   1,   3]\n",
    "])\n",
    "assert np.allclose(L, Le)\n",
    "assert np.allclose(A, L.dot(np.transpose(L)))"
   ]
  },
  {
   "cell_type": "code",
   "execution_count": 161,
   "metadata": {},
   "outputs": [],
   "source": [
    "A = np.array([\n",
    "    [ 18,  22,   54,   42 ], \n",
    "    [ 22,  70,   86,   62 ],\n",
    "    [ 54,  86,  174,  134 ],\n",
    "    [ 42,  62,  134,  106 ] \n",
    "])\n",
    "L = cholesky(A)\n",
    "Le = np.array([\n",
    "    [ 4.24264,    0.00000,    0.00000,    0.00000 ],\n",
    "    [ 5.18545,    6.56591,    0.00000,    0.00000 ],\n",
    "    [ 12.72792,    3.04604,    1.64974,    0.00000 ],\n",
    "    [ 9.89949,    1.62455,    1.84971,    1.39262 ]\n",
    "])\n",
    "assert np.allclose(L, Le)\n",
    "assert np.allclose(A, L.dot(np.transpose(L)))"
   ]
  },
  {
   "cell_type": "code",
   "execution_count": null,
   "metadata": {},
   "outputs": [],
   "source": []
  },
  {
   "cell_type": "code",
   "execution_count": null,
   "metadata": {},
   "outputs": [],
   "source": []
  }
 ],
 "metadata": {
  "kernelspec": {
   "display_name": "Python 3",
   "language": "python",
   "name": "python3"
  },
  "language_info": {
   "codemirror_mode": {
    "name": "ipython",
    "version": 3
   },
   "file_extension": ".py",
   "mimetype": "text/x-python",
   "name": "python",
   "nbconvert_exporter": "python",
   "pygments_lexer": "ipython3",
   "version": "3.6.5"
  }
 },
 "nbformat": 4,
 "nbformat_minor": 2
}
